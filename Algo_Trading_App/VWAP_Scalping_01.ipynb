{
 "cells": [
  {
   "cell_type": "code",
   "execution_count": 17,
   "id": "33303e37",
   "metadata": {},
   "outputs": [
    {
     "data": {
      "text/html": [
       "<div>\n",
       "<style scoped>\n",
       "    .dataframe tbody tr th:only-of-type {\n",
       "        vertical-align: middle;\n",
       "    }\n",
       "\n",
       "    .dataframe tbody tr th {\n",
       "        vertical-align: top;\n",
       "    }\n",
       "\n",
       "    .dataframe thead th {\n",
       "        text-align: right;\n",
       "    }\n",
       "</style>\n",
       "<table border=\"1\" class=\"dataframe\">\n",
       "  <thead>\n",
       "    <tr style=\"text-align: right;\">\n",
       "      <th></th>\n",
       "      <th>Gmt time</th>\n",
       "      <th>Open</th>\n",
       "      <th>High</th>\n",
       "      <th>Low</th>\n",
       "      <th>Close</th>\n",
       "      <th>Volume</th>\n",
       "    </tr>\n",
       "  </thead>\n",
       "  <tbody>\n",
       "    <tr>\n",
       "      <th>0</th>\n",
       "      <td>30.09.2019 00:00:00.000</td>\n",
       "      <td>1.09425</td>\n",
       "      <td>1.09426</td>\n",
       "      <td>1.09405</td>\n",
       "      <td>1.09406</td>\n",
       "      <td>585.10</td>\n",
       "    </tr>\n",
       "    <tr>\n",
       "      <th>1</th>\n",
       "      <td>30.09.2019 00:05:00.000</td>\n",
       "      <td>1.09408</td>\n",
       "      <td>1.09414</td>\n",
       "      <td>1.09401</td>\n",
       "      <td>1.09409</td>\n",
       "      <td>289.39</td>\n",
       "    </tr>\n",
       "    <tr>\n",
       "      <th>2</th>\n",
       "      <td>30.09.2019 00:10:00.000</td>\n",
       "      <td>1.09410</td>\n",
       "      <td>1.09423</td>\n",
       "      <td>1.09408</td>\n",
       "      <td>1.09410</td>\n",
       "      <td>276.24</td>\n",
       "    </tr>\n",
       "    <tr>\n",
       "      <th>3</th>\n",
       "      <td>30.09.2019 00:15:00.000</td>\n",
       "      <td>1.09409</td>\n",
       "      <td>1.09410</td>\n",
       "      <td>1.09388</td>\n",
       "      <td>1.09389</td>\n",
       "      <td>439.29</td>\n",
       "    </tr>\n",
       "    <tr>\n",
       "      <th>4</th>\n",
       "      <td>30.09.2019 00:20:00.000</td>\n",
       "      <td>1.09390</td>\n",
       "      <td>1.09395</td>\n",
       "      <td>1.09388</td>\n",
       "      <td>1.09395</td>\n",
       "      <td>341.23</td>\n",
       "    </tr>\n",
       "    <tr>\n",
       "      <th>...</th>\n",
       "      <td>...</td>\n",
       "      <td>...</td>\n",
       "      <td>...</td>\n",
       "      <td>...</td>\n",
       "      <td>...</td>\n",
       "      <td>...</td>\n",
       "    </tr>\n",
       "    <tr>\n",
       "      <th>225081</th>\n",
       "      <td>30.09.2022 20:35:00.000</td>\n",
       "      <td>0.98028</td>\n",
       "      <td>0.98034</td>\n",
       "      <td>0.98001</td>\n",
       "      <td>0.98022</td>\n",
       "      <td>624.12</td>\n",
       "    </tr>\n",
       "    <tr>\n",
       "      <th>225082</th>\n",
       "      <td>30.09.2022 20:40:00.000</td>\n",
       "      <td>0.98023</td>\n",
       "      <td>0.98047</td>\n",
       "      <td>0.98007</td>\n",
       "      <td>0.98030</td>\n",
       "      <td>408.20</td>\n",
       "    </tr>\n",
       "    <tr>\n",
       "      <th>225083</th>\n",
       "      <td>30.09.2022 20:45:00.000</td>\n",
       "      <td>0.98026</td>\n",
       "      <td>0.98034</td>\n",
       "      <td>0.98019</td>\n",
       "      <td>0.98031</td>\n",
       "      <td>317.29</td>\n",
       "    </tr>\n",
       "    <tr>\n",
       "      <th>225084</th>\n",
       "      <td>30.09.2022 20:50:00.000</td>\n",
       "      <td>0.98031</td>\n",
       "      <td>0.98067</td>\n",
       "      <td>0.97987</td>\n",
       "      <td>0.97999</td>\n",
       "      <td>1472.13</td>\n",
       "    </tr>\n",
       "    <tr>\n",
       "      <th>225085</th>\n",
       "      <td>30.09.2022 20:55:00.000</td>\n",
       "      <td>0.98000</td>\n",
       "      <td>0.98066</td>\n",
       "      <td>0.97993</td>\n",
       "      <td>0.98026</td>\n",
       "      <td>1068.81</td>\n",
       "    </tr>\n",
       "  </tbody>\n",
       "</table>\n",
       "<p>225086 rows × 6 columns</p>\n",
       "</div>"
      ],
      "text/plain": [
       "                       Gmt time     Open     High      Low    Close   Volume\n",
       "0       30.09.2019 00:00:00.000  1.09425  1.09426  1.09405  1.09406   585.10\n",
       "1       30.09.2019 00:05:00.000  1.09408  1.09414  1.09401  1.09409   289.39\n",
       "2       30.09.2019 00:10:00.000  1.09410  1.09423  1.09408  1.09410   276.24\n",
       "3       30.09.2019 00:15:00.000  1.09409  1.09410  1.09388  1.09389   439.29\n",
       "4       30.09.2019 00:20:00.000  1.09390  1.09395  1.09388  1.09395   341.23\n",
       "...                         ...      ...      ...      ...      ...      ...\n",
       "225081  30.09.2022 20:35:00.000  0.98028  0.98034  0.98001  0.98022   624.12\n",
       "225082  30.09.2022 20:40:00.000  0.98023  0.98047  0.98007  0.98030   408.20\n",
       "225083  30.09.2022 20:45:00.000  0.98026  0.98034  0.98019  0.98031   317.29\n",
       "225084  30.09.2022 20:50:00.000  0.98031  0.98067  0.97987  0.97999  1472.13\n",
       "225085  30.09.2022 20:55:00.000  0.98000  0.98066  0.97993  0.98026  1068.81\n",
       "\n",
       "[225086 rows x 6 columns]"
      ]
     },
     "execution_count": 17,
     "metadata": {},
     "output_type": "execute_result"
    }
   ],
   "source": [
    "import pandas as pd\n",
    "df=pd.read_csv(\"EURUSD_Candlestick_5_M_ASK_30.09.2019-30.09.2022.csv\")\n",
    "df"
   ]
  },
  {
   "cell_type": "code",
   "execution_count": 18,
   "id": "c3f880ce",
   "metadata": {},
   "outputs": [
    {
     "name": "stderr",
     "output_type": "stream",
     "text": [
      "/var/folders/rq/n22drjv93pl8fgk_l4qsb07r0000gn/T/ipykernel_71002/286423569.py:1: FutureWarning:\n",
      "\n",
      "The default value of regex will change from True to False in a future version.\n",
      "\n"
     ]
    },
    {
     "data": {
      "text/plain": [
       "224989"
      ]
     },
     "execution_count": 18,
     "metadata": {},
     "output_type": "execute_result"
    }
   ],
   "source": [
    "df[\"Gmt time\"]=df[\"Gmt time\"].str.replace(\".000\",\"\")\n",
    "df['Gmt time']=pd.to_datetime(df['Gmt time'],format='%d.%m.%Y %H:%M:%S')\n",
    "df.set_index(\"Gmt time\", inplace=True)\n",
    "df=df[df.High!=df.Low]\n",
    "len(df)"
   ]
  },
  {
   "cell_type": "code",
   "execution_count": 19,
   "id": "d3eb031c",
   "metadata": {},
   "outputs": [
    {
     "name": "stderr",
     "output_type": "stream",
     "text": [
      "/var/folders/rq/n22drjv93pl8fgk_l4qsb07r0000gn/T/ipykernel_71002/3882960619.py:2: SettingWithCopyWarning:\n",
      "\n",
      "\n",
      "A value is trying to be set on a copy of a slice from a DataFrame.\n",
      "Try using .loc[row_indexer,col_indexer] = value instead\n",
      "\n",
      "See the caveats in the documentation: https://pandas.pydata.org/pandas-docs/stable/user_guide/indexing.html#returning-a-view-versus-a-copy\n",
      "\n",
      "/var/folders/rq/n22drjv93pl8fgk_l4qsb07r0000gn/T/ipykernel_71002/3882960619.py:3: SettingWithCopyWarning:\n",
      "\n",
      "\n",
      "A value is trying to be set on a copy of a slice from a DataFrame.\n",
      "Try using .loc[row_indexer,col_indexer] = value instead\n",
      "\n",
      "See the caveats in the documentation: https://pandas.pydata.org/pandas-docs/stable/user_guide/indexing.html#returning-a-view-versus-a-copy\n",
      "\n"
     ]
    }
   ],
   "source": [
    "import pandas_ta as ta\n",
    "df[\"VWAP\"]=ta.vwap(df.High, df.Low, df.Close, df.Volume)\n",
    "df['RSI']=ta.rsi(df.Close, length=16)\n",
    "my_bbands = ta.bbands(df.Close, length=14, std=2.0)\n",
    "df=df.join(my_bbands)"
   ]
  },
  {
   "cell_type": "code",
   "execution_count": 20,
   "id": "6d2cc33a",
   "metadata": {},
   "outputs": [],
   "source": [
    "VWAPsignal = [0]*len(df)\n",
    "backcandles = 15\n",
    "\n",
    "for row in range(backcandles, len(df)):\n",
    "    upt = 1\n",
    "    dnt = 1\n",
    "    for i in range(row-backcandles, row+1):\n",
    "        if max(df.Open[i], df.Close[i])>=df.VWAP[i]:\n",
    "            dnt=0\n",
    "        if min(df.Open[i], df.Close[i])<=df.VWAP[i]:\n",
    "            upt=0\n",
    "    if upt==1 and dnt==1:\n",
    "        VWAPsignal[row]=3\n",
    "    elif upt==1:\n",
    "        VWAPsignal[row]=2\n",
    "    elif dnt==1:\n",
    "        VWAPsignal[row]=1\n",
    "\n",
    "df['VWAPSignal'] = VWAPsignal"
   ]
  },
  {
   "cell_type": "code",
   "execution_count": 21,
   "id": "9a9981d6",
   "metadata": {},
   "outputs": [],
   "source": [
    "def TotalSignal(l):\n",
    "    if (df.VWAPSignal[l]==2\n",
    "        and df.Close[l]<=df['BBL_14_2.0'][l]\n",
    "        and df.RSI[l]<45):\n",
    "            return 2\n",
    "    if (df.VWAPSignal[l]==1\n",
    "        and df.Close[l]>=df['BBU_14_2.0'][l]\n",
    "        and df.RSI[l]>55):\n",
    "            return 1\n",
    "    return 0\n",
    "        \n",
    "TotSignal = [0]*len(df)\n",
    "for row in range(backcandles, len(df)): #careful backcandles used previous cell\n",
    "    TotSignal[row] = TotalSignal(row)\n",
    "df['TotalSignal'] = TotSignal"
   ]
  },
  {
   "cell_type": "code",
   "execution_count": 22,
   "id": "65435b94",
   "metadata": {},
   "outputs": [
    {
     "data": {
      "text/plain": [
       "Open           2781\n",
       "High           2781\n",
       "Low            2781\n",
       "Close          2781\n",
       "Volume         2781\n",
       "VWAP           2781\n",
       "RSI            2781\n",
       "BBL_14_2.0     2781\n",
       "BBM_14_2.0     2781\n",
       "BBU_14_2.0     2781\n",
       "BBB_14_2.0     2781\n",
       "BBP_14_2.0     2781\n",
       "VWAPSignal     2781\n",
       "TotalSignal    2781\n",
       "dtype: int64"
      ]
     },
     "execution_count": 22,
     "metadata": {},
     "output_type": "execute_result"
    }
   ],
   "source": [
    "df[df.TotalSignal!=0].count()"
   ]
  },
  {
   "cell_type": "code",
   "execution_count": 23,
   "id": "e7080a9a",
   "metadata": {},
   "outputs": [],
   "source": [
    "import numpy as np\n",
    "def pointposbreak(x):\n",
    "    if x['TotalSignal']==1:\n",
    "        return x['High']+1e-4\n",
    "    elif x['TotalSignal']==2:\n",
    "        return x['Low']-1e-4\n",
    "    else:\n",
    "        return np.nan\n",
    "\n",
    "df['pointposbreak'] = df.apply(lambda row: pointposbreak(row), axis=1)"
   ]
  },
  {
   "cell_type": "code",
   "execution_count": 24,
   "id": "0d0e2a76",
   "metadata": {
    "scrolled": false
   },
   "outputs": [
    {
     "data": {
      "application/vnd.plotly.v1+json": {
       "config": {
        "plotlyServerURL": "https://plot.ly"
       },
       "data": [
        {
         "close": {
          "bdata": "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",
          "dtype": "f8"
         },
         "high": {
          "bdata": "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",
          "dtype": "f8"
         },
         "low": {
          "bdata": "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",
          "dtype": "f8"
         },
         "open": {
          "bdata": "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",
          "dtype": "f8"
         },
         "type": "candlestick",
         "x": {
          "bdata": "AAABAAIAAwAEAAUABgAHAAgACQAKAAsADAANAA4ADwAQABEAEgATABQAFQAWABcAGAAZABoAGwAcAB0AHgAfACAAIQAiACMAJAAlACYAJwAoACkAKgArACwALQAuAC8AMAAxADIAMwA0ADUANgA3ADgAOQA6ADsAPAA9AD4APwBAAEEAQgBDAEQARQBGAEcASABJAEoASwBMAE0ATgBPAFAAUQBSAFMAVABVAFYAVwBYAFkAWgBbAFwAXQBeAF8AYABhAGIAYwBkAGUAZgBnAGgAaQBqAGsAbABtAG4AbwBwAHEAcgBzAHQAdQB2AHcAeAB5AHoAewB8AH0AfgB/AIAAgQCCAIMAhACFAIYAhwCIAIkAigCLAIwAjQCOAI8AkACRAJIAkwCUAJUAlgCXAJgAmQCaAJsAnACdAJ4AnwCgAKEAogCjAKQApQCmAKcAqACpAKoAqwCsAK0ArgCvALAAsQCyALMAtAC1ALYAtwC4ALkAugC7ALwAvQC+AL8AwADBAMIAwwDEAMUAxgDHAMgAyQDKAMsAzADNAM4AzwDQANEA0gDTANQA1QDWANcA2ADZANoA2wDcAN0A3gDfAOAA4QDiAOMA5ADlAOYA5wDoAOkA6gDrAOwA7QDuAO8A8ADxAPIA8wD0APUA9gD3APgA+QD6APsA/AD9AP4A/wAAAQEBAgEDAQQBBQEGAQcBCAEJAQoBCwEMAQ0BDgEPARABEQESARMBFAEVARYBFwEYARkBGgEbARwBHQEeAR8BIAEhASIBIwEkASUBJgEnASgBKQEqASsBLAEtAS4BLwEwATEBMgEzATQBNQE2ATcBOAE5AToBOwE8AT0BPgE/AUABQQFCAUMBRAFFAUYBRwFIAUkBSgFLAUwBTQFOAU8BUAFRAVIBUwFUAVUBVgFXAVgBWQFaAVsBXAFdAQ==",
          "dtype": "i2"
         }
        },
        {
         "line": {
          "color": "blue",
          "width": 1
         },
         "name": "VWAP",
         "type": "scatter",
         "x": {
          "bdata": "AAABAAIAAwAEAAUABgAHAAgACQAKAAsADAANAA4ADwAQABEAEgATABQAFQAWABcAGAAZABoAGwAcAB0AHgAfACAAIQAiACMAJAAlACYAJwAoACkAKgArACwALQAuAC8AMAAxADIAMwA0ADUANgA3ADgAOQA6ADsAPAA9AD4APwBAAEEAQgBDAEQARQBGAEcASABJAEoASwBMAE0ATgBPAFAAUQBSAFMAVABVAFYAVwBYAFkAWgBbAFwAXQBeAF8AYABhAGIAYwBkAGUAZgBnAGgAaQBqAGsAbABtAG4AbwBwAHEAcgBzAHQAdQB2AHcAeAB5AHoAewB8AH0AfgB/AIAAgQCCAIMAhACFAIYAhwCIAIkAigCLAIwAjQCOAI8AkACRAJIAkwCUAJUAlgCXAJgAmQCaAJsAnACdAJ4AnwCgAKEAogCjAKQApQCmAKcAqACpAKoAqwCsAK0ArgCvALAAsQCyALMAtAC1ALYAtwC4ALkAugC7ALwAvQC+AL8AwADBAMIAwwDEAMUAxgDHAMgAyQDKAMsAzADNAM4AzwDQANEA0gDTANQA1QDWANcA2ADZANoA2wDcAN0A3gDfAOAA4QDiAOMA5ADlAOYA5wDoAOkA6gDrAOwA7QDuAO8A8ADxAPIA8wD0APUA9gD3APgA+QD6APsA/AD9AP4A/wAAAQEBAgEDAQQBBQEGAQcBCAEJAQoBCwEMAQ0BDgEPARABEQESARMBFAEVARYBFwEYARkBGgEbARwBHQEeAR8BIAEhASIBIwEkASUBJgEnASgBKQEqASsBLAEtAS4BLwEwATEBMgEzATQBNQE2ATcBOAE5AToBOwE8AT0BPgE/AUABQQFCAUMBRAFFAUYBRwFIAUkBSgFLAUwBTQFOAU8BUAFRAVIBUwFUAVUBVgFXAVgBWQFaAVsBXAFdAQ==",
          "dtype": "i2"
         },
         "y": {
          "bdata": "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",
          "dtype": "f8"
         }
        },
        {
         "line": {
          "color": "green",
          "width": 1
         },
         "name": "BBL",
         "type": "scatter",
         "x": {
          "bdata": "AAABAAIAAwAEAAUABgAHAAgACQAKAAsADAANAA4ADwAQABEAEgATABQAFQAWABcAGAAZABoAGwAcAB0AHgAfACAAIQAiACMAJAAlACYAJwAoACkAKgArACwALQAuAC8AMAAxADIAMwA0ADUANgA3ADgAOQA6ADsAPAA9AD4APwBAAEEAQgBDAEQARQBGAEcASABJAEoASwBMAE0ATgBPAFAAUQBSAFMAVABVAFYAVwBYAFkAWgBbAFwAXQBeAF8AYABhAGIAYwBkAGUAZgBnAGgAaQBqAGsAbABtAG4AbwBwAHEAcgBzAHQAdQB2AHcAeAB5AHoAewB8AH0AfgB/AIAAgQCCAIMAhACFAIYAhwCIAIkAigCLAIwAjQCOAI8AkACRAJIAkwCUAJUAlgCXAJgAmQCaAJsAnACdAJ4AnwCgAKEAogCjAKQApQCmAKcAqACpAKoAqwCsAK0ArgCvALAAsQCyALMAtAC1ALYAtwC4ALkAugC7ALwAvQC+AL8AwADBAMIAwwDEAMUAxgDHAMgAyQDKAMsAzADNAM4AzwDQANEA0gDTANQA1QDWANcA2ADZANoA2wDcAN0A3gDfAOAA4QDiAOMA5ADlAOYA5wDoAOkA6gDrAOwA7QDuAO8A8ADxAPIA8wD0APUA9gD3APgA+QD6APsA/AD9AP4A/wAAAQEBAgEDAQQBBQEGAQcBCAEJAQoBCwEMAQ0BDgEPARABEQESARMBFAEVARYBFwEYARkBGgEbARwBHQEeAR8BIAEhASIBIwEkASUBJgEnASgBKQEqASsBLAEtAS4BLwEwATEBMgEzATQBNQE2ATcBOAE5AToBOwE8AT0BPgE/AUABQQFCAUMBRAFFAUYBRwFIAUkBSgFLAUwBTQFOAU8BUAFRAVIBUwFUAVUBVgFXAVgBWQFaAVsBXAFdAQ==",
          "dtype": "i2"
         },
         "y": {
          "bdata": "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",
          "dtype": "f8"
         }
        },
        {
         "line": {
          "color": "green",
          "width": 1
         },
         "name": "BBU",
         "type": "scatter",
         "x": {
          "bdata": "AAABAAIAAwAEAAUABgAHAAgACQAKAAsADAANAA4ADwAQABEAEgATABQAFQAWABcAGAAZABoAGwAcAB0AHgAfACAAIQAiACMAJAAlACYAJwAoACkAKgArACwALQAuAC8AMAAxADIAMwA0ADUANgA3ADgAOQA6ADsAPAA9AD4APwBAAEEAQgBDAEQARQBGAEcASABJAEoASwBMAE0ATgBPAFAAUQBSAFMAVABVAFYAVwBYAFkAWgBbAFwAXQBeAF8AYABhAGIAYwBkAGUAZgBnAGgAaQBqAGsAbABtAG4AbwBwAHEAcgBzAHQAdQB2AHcAeAB5AHoAewB8AH0AfgB/AIAAgQCCAIMAhACFAIYAhwCIAIkAigCLAIwAjQCOAI8AkACRAJIAkwCUAJUAlgCXAJgAmQCaAJsAnACdAJ4AnwCgAKEAogCjAKQApQCmAKcAqACpAKoAqwCsAK0ArgCvALAAsQCyALMAtAC1ALYAtwC4ALkAugC7ALwAvQC+AL8AwADBAMIAwwDEAMUAxgDHAMgAyQDKAMsAzADNAM4AzwDQANEA0gDTANQA1QDWANcA2ADZANoA2wDcAN0A3gDfAOAA4QDiAOMA5ADlAOYA5wDoAOkA6gDrAOwA7QDuAO8A8ADxAPIA8wD0APUA9gD3APgA+QD6APsA/AD9AP4A/wAAAQEBAgEDAQQBBQEGAQcBCAEJAQoBCwEMAQ0BDgEPARABEQESARMBFAEVARYBFwEYARkBGgEbARwBHQEeAR8BIAEhASIBIwEkASUBJgEnASgBKQEqASsBLAEtAS4BLwEwATEBMgEzATQBNQE2ATcBOAE5AToBOwE8AT0BPgE/AUABQQFCAUMBRAFFAUYBRwFIAUkBSgFLAUwBTQFOAU8BUAFRAVIBUwFUAVUBVgFXAVgBWQFaAVsBXAFdAQ==",
          "dtype": "i2"
         },
         "y": {
          "bdata": "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",
          "dtype": "f8"
         }
        },
        {
         "marker": {
          "color": "MediumPurple",
          "size": 10
         },
         "mode": "markers",
         "name": "Signal",
         "type": "scatter",
         "x": {
          "bdata": "AAABAAIAAwAEAAUABgAHAAgACQAKAAsADAANAA4ADwAQABEAEgATABQAFQAWABcAGAAZABoAGwAcAB0AHgAfACAAIQAiACMAJAAlACYAJwAoACkAKgArACwALQAuAC8AMAAxADIAMwA0ADUANgA3ADgAOQA6ADsAPAA9AD4APwBAAEEAQgBDAEQARQBGAEcASABJAEoASwBMAE0ATgBPAFAAUQBSAFMAVABVAFYAVwBYAFkAWgBbAFwAXQBeAF8AYABhAGIAYwBkAGUAZgBnAGgAaQBqAGsAbABtAG4AbwBwAHEAcgBzAHQAdQB2AHcAeAB5AHoAewB8AH0AfgB/AIAAgQCCAIMAhACFAIYAhwCIAIkAigCLAIwAjQCOAI8AkACRAJIAkwCUAJUAlgCXAJgAmQCaAJsAnACdAJ4AnwCgAKEAogCjAKQApQCmAKcAqACpAKoAqwCsAK0ArgCvALAAsQCyALMAtAC1ALYAtwC4ALkAugC7ALwAvQC+AL8AwADBAMIAwwDEAMUAxgDHAMgAyQDKAMsAzADNAM4AzwDQANEA0gDTANQA1QDWANcA2ADZANoA2wDcAN0A3gDfAOAA4QDiAOMA5ADlAOYA5wDoAOkA6gDrAOwA7QDuAO8A8ADxAPIA8wD0APUA9gD3APgA+QD6APsA/AD9AP4A/wAAAQEBAgEDAQQBBQEGAQcBCAEJAQoBCwEMAQ0BDgEPARABEQESARMBFAEVARYBFwEYARkBGgEbARwBHQEeAR8BIAEhASIBIwEkASUBJgEnASgBKQEqASsBLAEtAS4BLwEwATEBMgEzATQBNQE2ATcBOAE5AToBOwE8AT0BPgE/AUABQQFCAUMBRAFFAUYBRwFIAUkBSgFLAUwBTQFOAU8BUAFRAVIBUwFUAVUBVgFXAVgBWQFaAVsBXAFdAQ==",
          "dtype": "i2"
         },
         "y": {
          "bdata": "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",
          "dtype": "f8"
         }
        }
       ],
       "layout": {
        "template": {
         "data": {
          "bar": [
           {
            "error_x": {
             "color": "#2a3f5f"
            },
            "error_y": {
             "color": "#2a3f5f"
            },
            "marker": {
             "line": {
              "color": "#E5ECF6",
              "width": 0.5
             },
             "pattern": {
              "fillmode": "overlay",
              "size": 10,
              "solidity": 0.2
             }
            },
            "type": "bar"
           }
          ],
          "barpolar": [
           {
            "marker": {
             "line": {
              "color": "#E5ECF6",
              "width": 0.5
             },
             "pattern": {
              "fillmode": "overlay",
              "size": 10,
              "solidity": 0.2
             }
            },
            "type": "barpolar"
           }
          ],
          "carpet": [
           {
            "aaxis": {
             "endlinecolor": "#2a3f5f",
             "gridcolor": "white",
             "linecolor": "white",
             "minorgridcolor": "white",
             "startlinecolor": "#2a3f5f"
            },
            "baxis": {
             "endlinecolor": "#2a3f5f",
             "gridcolor": "white",
             "linecolor": "white",
             "minorgridcolor": "white",
             "startlinecolor": "#2a3f5f"
            },
            "type": "carpet"
           }
          ],
          "choropleth": [
           {
            "colorbar": {
             "outlinewidth": 0,
             "ticks": ""
            },
            "type": "choropleth"
           }
          ],
          "contour": [
           {
            "colorbar": {
             "outlinewidth": 0,
             "ticks": ""
            },
            "colorscale": [
             [
              0,
              "#0d0887"
             ],
             [
              0.1111111111111111,
              "#46039f"
             ],
             [
              0.2222222222222222,
              "#7201a8"
             ],
             [
              0.3333333333333333,
              "#9c179e"
             ],
             [
              0.4444444444444444,
              "#bd3786"
             ],
             [
              0.5555555555555556,
              "#d8576b"
             ],
             [
              0.6666666666666666,
              "#ed7953"
             ],
             [
              0.7777777777777778,
              "#fb9f3a"
             ],
             [
              0.8888888888888888,
              "#fdca26"
             ],
             [
              1,
              "#f0f921"
             ]
            ],
            "type": "contour"
           }
          ],
          "contourcarpet": [
           {
            "colorbar": {
             "outlinewidth": 0,
             "ticks": ""
            },
            "type": "contourcarpet"
           }
          ],
          "heatmap": [
           {
            "colorbar": {
             "outlinewidth": 0,
             "ticks": ""
            },
            "colorscale": [
             [
              0,
              "#0d0887"
             ],
             [
              0.1111111111111111,
              "#46039f"
             ],
             [
              0.2222222222222222,
              "#7201a8"
             ],
             [
              0.3333333333333333,
              "#9c179e"
             ],
             [
              0.4444444444444444,
              "#bd3786"
             ],
             [
              0.5555555555555556,
              "#d8576b"
             ],
             [
              0.6666666666666666,
              "#ed7953"
             ],
             [
              0.7777777777777778,
              "#fb9f3a"
             ],
             [
              0.8888888888888888,
              "#fdca26"
             ],
             [
              1,
              "#f0f921"
             ]
            ],
            "type": "heatmap"
           }
          ],
          "histogram": [
           {
            "marker": {
             "pattern": {
              "fillmode": "overlay",
              "size": 10,
              "solidity": 0.2
             }
            },
            "type": "histogram"
           }
          ],
          "histogram2d": [
           {
            "colorbar": {
             "outlinewidth": 0,
             "ticks": ""
            },
            "colorscale": [
             [
              0,
              "#0d0887"
             ],
             [
              0.1111111111111111,
              "#46039f"
             ],
             [
              0.2222222222222222,
              "#7201a8"
             ],
             [
              0.3333333333333333,
              "#9c179e"
             ],
             [
              0.4444444444444444,
              "#bd3786"
             ],
             [
              0.5555555555555556,
              "#d8576b"
             ],
             [
              0.6666666666666666,
              "#ed7953"
             ],
             [
              0.7777777777777778,
              "#fb9f3a"
             ],
             [
              0.8888888888888888,
              "#fdca26"
             ],
             [
              1,
              "#f0f921"
             ]
            ],
            "type": "histogram2d"
           }
          ],
          "histogram2dcontour": [
           {
            "colorbar": {
             "outlinewidth": 0,
             "ticks": ""
            },
            "colorscale": [
             [
              0,
              "#0d0887"
             ],
             [
              0.1111111111111111,
              "#46039f"
             ],
             [
              0.2222222222222222,
              "#7201a8"
             ],
             [
              0.3333333333333333,
              "#9c179e"
             ],
             [
              0.4444444444444444,
              "#bd3786"
             ],
             [
              0.5555555555555556,
              "#d8576b"
             ],
             [
              0.6666666666666666,
              "#ed7953"
             ],
             [
              0.7777777777777778,
              "#fb9f3a"
             ],
             [
              0.8888888888888888,
              "#fdca26"
             ],
             [
              1,
              "#f0f921"
             ]
            ],
            "type": "histogram2dcontour"
           }
          ],
          "mesh3d": [
           {
            "colorbar": {
             "outlinewidth": 0,
             "ticks": ""
            },
            "type": "mesh3d"
           }
          ],
          "parcoords": [
           {
            "line": {
             "colorbar": {
              "outlinewidth": 0,
              "ticks": ""
             }
            },
            "type": "parcoords"
           }
          ],
          "pie": [
           {
            "automargin": true,
            "type": "pie"
           }
          ],
          "scatter": [
           {
            "fillpattern": {
             "fillmode": "overlay",
             "size": 10,
             "solidity": 0.2
            },
            "type": "scatter"
           }
          ],
          "scatter3d": [
           {
            "line": {
             "colorbar": {
              "outlinewidth": 0,
              "ticks": ""
             }
            },
            "marker": {
             "colorbar": {
              "outlinewidth": 0,
              "ticks": ""
             }
            },
            "type": "scatter3d"
           }
          ],
          "scattercarpet": [
           {
            "marker": {
             "colorbar": {
              "outlinewidth": 0,
              "ticks": ""
             }
            },
            "type": "scattercarpet"
           }
          ],
          "scattergeo": [
           {
            "marker": {
             "colorbar": {
              "outlinewidth": 0,
              "ticks": ""
             }
            },
            "type": "scattergeo"
           }
          ],
          "scattergl": [
           {
            "marker": {
             "colorbar": {
              "outlinewidth": 0,
              "ticks": ""
             }
            },
            "type": "scattergl"
           }
          ],
          "scattermap": [
           {
            "marker": {
             "colorbar": {
              "outlinewidth": 0,
              "ticks": ""
             }
            },
            "type": "scattermap"
           }
          ],
          "scattermapbox": [
           {
            "marker": {
             "colorbar": {
              "outlinewidth": 0,
              "ticks": ""
             }
            },
            "type": "scattermapbox"
           }
          ],
          "scatterpolar": [
           {
            "marker": {
             "colorbar": {
              "outlinewidth": 0,
              "ticks": ""
             }
            },
            "type": "scatterpolar"
           }
          ],
          "scatterpolargl": [
           {
            "marker": {
             "colorbar": {
              "outlinewidth": 0,
              "ticks": ""
             }
            },
            "type": "scatterpolargl"
           }
          ],
          "scatterternary": [
           {
            "marker": {
             "colorbar": {
              "outlinewidth": 0,
              "ticks": ""
             }
            },
            "type": "scatterternary"
           }
          ],
          "surface": [
           {
            "colorbar": {
             "outlinewidth": 0,
             "ticks": ""
            },
            "colorscale": [
             [
              0,
              "#0d0887"
             ],
             [
              0.1111111111111111,
              "#46039f"
             ],
             [
              0.2222222222222222,
              "#7201a8"
             ],
             [
              0.3333333333333333,
              "#9c179e"
             ],
             [
              0.4444444444444444,
              "#bd3786"
             ],
             [
              0.5555555555555556,
              "#d8576b"
             ],
             [
              0.6666666666666666,
              "#ed7953"
             ],
             [
              0.7777777777777778,
              "#fb9f3a"
             ],
             [
              0.8888888888888888,
              "#fdca26"
             ],
             [
              1,
              "#f0f921"
             ]
            ],
            "type": "surface"
           }
          ],
          "table": [
           {
            "cells": {
             "fill": {
              "color": "#EBF0F8"
             },
             "line": {
              "color": "white"
             }
            },
            "header": {
             "fill": {
              "color": "#C8D4E3"
             },
             "line": {
              "color": "white"
             }
            },
            "type": "table"
           }
          ]
         },
         "layout": {
          "annotationdefaults": {
           "arrowcolor": "#2a3f5f",
           "arrowhead": 0,
           "arrowwidth": 1
          },
          "autotypenumbers": "strict",
          "coloraxis": {
           "colorbar": {
            "outlinewidth": 0,
            "ticks": ""
           }
          },
          "colorscale": {
           "diverging": [
            [
             0,
             "#8e0152"
            ],
            [
             0.1,
             "#c51b7d"
            ],
            [
             0.2,
             "#de77ae"
            ],
            [
             0.3,
             "#f1b6da"
            ],
            [
             0.4,
             "#fde0ef"
            ],
            [
             0.5,
             "#f7f7f7"
            ],
            [
             0.6,
             "#e6f5d0"
            ],
            [
             0.7,
             "#b8e186"
            ],
            [
             0.8,
             "#7fbc41"
            ],
            [
             0.9,
             "#4d9221"
            ],
            [
             1,
             "#276419"
            ]
           ],
           "sequential": [
            [
             0,
             "#0d0887"
            ],
            [
             0.1111111111111111,
             "#46039f"
            ],
            [
             0.2222222222222222,
             "#7201a8"
            ],
            [
             0.3333333333333333,
             "#9c179e"
            ],
            [
             0.4444444444444444,
             "#bd3786"
            ],
            [
             0.5555555555555556,
             "#d8576b"
            ],
            [
             0.6666666666666666,
             "#ed7953"
            ],
            [
             0.7777777777777778,
             "#fb9f3a"
            ],
            [
             0.8888888888888888,
             "#fdca26"
            ],
            [
             1,
             "#f0f921"
            ]
           ],
           "sequentialminus": [
            [
             0,
             "#0d0887"
            ],
            [
             0.1111111111111111,
             "#46039f"
            ],
            [
             0.2222222222222222,
             "#7201a8"
            ],
            [
             0.3333333333333333,
             "#9c179e"
            ],
            [
             0.4444444444444444,
             "#bd3786"
            ],
            [
             0.5555555555555556,
             "#d8576b"
            ],
            [
             0.6666666666666666,
             "#ed7953"
            ],
            [
             0.7777777777777778,
             "#fb9f3a"
            ],
            [
             0.8888888888888888,
             "#fdca26"
            ],
            [
             1,
             "#f0f921"
            ]
           ]
          },
          "colorway": [
           "#636efa",
           "#EF553B",
           "#00cc96",
           "#ab63fa",
           "#FFA15A",
           "#19d3f3",
           "#FF6692",
           "#B6E880",
           "#FF97FF",
           "#FECB52"
          ],
          "font": {
           "color": "#2a3f5f"
          },
          "geo": {
           "bgcolor": "white",
           "lakecolor": "white",
           "landcolor": "#E5ECF6",
           "showlakes": true,
           "showland": true,
           "subunitcolor": "white"
          },
          "hoverlabel": {
           "align": "left"
          },
          "hovermode": "closest",
          "mapbox": {
           "style": "light"
          },
          "paper_bgcolor": "white",
          "plot_bgcolor": "#E5ECF6",
          "polar": {
           "angularaxis": {
            "gridcolor": "white",
            "linecolor": "white",
            "ticks": ""
           },
           "bgcolor": "#E5ECF6",
           "radialaxis": {
            "gridcolor": "white",
            "linecolor": "white",
            "ticks": ""
           }
          },
          "scene": {
           "xaxis": {
            "backgroundcolor": "#E5ECF6",
            "gridcolor": "white",
            "gridwidth": 2,
            "linecolor": "white",
            "showbackground": true,
            "ticks": "",
            "zerolinecolor": "white"
           },
           "yaxis": {
            "backgroundcolor": "#E5ECF6",
            "gridcolor": "white",
            "gridwidth": 2,
            "linecolor": "white",
            "showbackground": true,
            "ticks": "",
            "zerolinecolor": "white"
           },
           "zaxis": {
            "backgroundcolor": "#E5ECF6",
            "gridcolor": "white",
            "gridwidth": 2,
            "linecolor": "white",
            "showbackground": true,
            "ticks": "",
            "zerolinecolor": "white"
           }
          },
          "shapedefaults": {
           "line": {
            "color": "#2a3f5f"
           }
          },
          "ternary": {
           "aaxis": {
            "gridcolor": "white",
            "linecolor": "white",
            "ticks": ""
           },
           "baxis": {
            "gridcolor": "white",
            "linecolor": "white",
            "ticks": ""
           },
           "bgcolor": "#E5ECF6",
           "caxis": {
            "gridcolor": "white",
            "linecolor": "white",
            "ticks": ""
           }
          },
          "title": {
           "x": 0.05
          },
          "xaxis": {
           "automargin": true,
           "gridcolor": "white",
           "linecolor": "white",
           "ticks": "",
           "title": {
            "standoff": 15
           },
           "zerolinecolor": "white",
           "zerolinewidth": 2
          },
          "yaxis": {
           "automargin": true,
           "gridcolor": "white",
           "linecolor": "white",
           "ticks": "",
           "title": {
            "standoff": 15
           },
           "zerolinecolor": "white",
           "zerolinewidth": 2
          }
         }
        }
       }
      }
     },
     "metadata": {},
     "output_type": "display_data"
    }
   ],
   "source": [
    "import plotly.graph_objects as go\n",
    "from plotly.subplots import make_subplots\n",
    "from datetime import datetime\n",
    "st=10400\n",
    "dfpl = df[st:st+350]\n",
    "dfpl.reset_index(inplace=True)\n",
    "fig = go.Figure(data=[go.Candlestick(x=dfpl.index,\n",
    "                open=dfpl['Open'],\n",
    "                high=dfpl['High'],\n",
    "                low=dfpl['Low'],\n",
    "                close=dfpl['Close']),\n",
    "                go.Scatter(x=dfpl.index, y=dfpl.VWAP, \n",
    "                           line=dict(color='blue', width=1), \n",
    "                           name=\"VWAP\"), \n",
    "                go.Scatter(x=dfpl.index, y=dfpl['BBL_14_2.0'], \n",
    "                           line=dict(color='green', width=1), \n",
    "                           name=\"BBL\"),\n",
    "                go.Scatter(x=dfpl.index, y=dfpl['BBU_14_2.0'], \n",
    "                           line=dict(color='green', width=1), \n",
    "                           name=\"BBU\")])\n",
    "\n",
    "fig.add_scatter(x=dfpl.index, y=dfpl['pointposbreak'], mode=\"markers\",\n",
    "                marker=dict(size=10, color=\"MediumPurple\"),\n",
    "                name=\"Signal\")\n",
    "fig.show()"
   ]
  },
  {
   "cell_type": "code",
   "execution_count": 25,
   "id": "6083727a",
   "metadata": {},
   "outputs": [],
   "source": [
    "dfpl = df[:75000].copy()\n",
    "import pandas_ta as ta\n",
    "dfpl['ATR']=ta.atr(dfpl.High, dfpl.Low, dfpl.Close, length=7)\n",
    "#help(ta.atr)\n",
    "def SIGNAL():\n",
    "    return dfpl.TotalSignal"
   ]
  },
  {
   "cell_type": "code",
   "execution_count": 26,
   "id": "81219ec4",
   "metadata": {},
   "outputs": [
    {
     "data": {
      "text/plain": [
       "Start                     2019-09-30 00:00:00\n",
       "End                       2020-09-30 04:25:00\n",
       "Duration                    366 days 04:25:00\n",
       "Exposure Time [%]                    6.694667\n",
       "Equity Final [$]                   172.713956\n",
       "Equity Peak [$]                    173.665736\n",
       "Return [%]                          72.713956\n",
       "Buy & Hold Return [%]                7.246403\n",
       "Return (Ann.) [%]                   53.432392\n",
       "Volatility (Ann.) [%]               25.126177\n",
       "Sharpe Ratio                         2.126563\n",
       "Sortino Ratio                        5.880902\n",
       "Calmar Ratio                         5.285867\n",
       "Max. Drawdown [%]                   -10.10854\n",
       "Avg. Drawdown [%]                   -0.707265\n",
       "Max. Drawdown Duration       53 days 00:40:00\n",
       "Avg. Drawdown Duration        1 days 19:34:00\n",
       "# Trades                                  713\n",
       "Win Rate [%]                        48.527349\n",
       "Best Trade [%]                        0.42012\n",
       "Worst Trade [%]                      -0.27659\n",
       "Avg. Trade [%]                       0.007964\n",
       "Max. Trade Duration           2 days 05:30:00\n",
       "Avg. Trade Duration           0 days 00:47:00\n",
       "Profit Factor                        1.346955\n",
       "Expectancy [%]                       0.007989\n",
       "SQN                                   2.84368\n",
       "Kelly Criterion                      0.110906\n",
       "_strategy                             MyStrat\n",
       "_equity_curve                             ...\n",
       "_trades                        Size  Entry...\n",
       "dtype: object"
      ]
     },
     "execution_count": 26,
     "metadata": {},
     "output_type": "execute_result"
    }
   ],
   "source": [
    "from backtesting import Strategy\n",
    "from backtesting import Backtest\n",
    "\n",
    "class MyStrat(Strategy):\n",
    "    initsize = 0.99\n",
    "    mysize = initsize\n",
    "    def init(self):\n",
    "        super().init()\n",
    "        self.signal1 = self.I(SIGNAL)\n",
    "\n",
    "    def next(self):\n",
    "        super().next()\n",
    "        slatr = 1.2*self.data.ATR[-1]\n",
    "        TPSLRatio = 1.5\n",
    "\n",
    "        if len(self.trades)>0:\n",
    "            if self.trades[-1].is_long and self.data.RSI[-1]>=90:\n",
    "                self.trades[-1].close()\n",
    "            elif self.trades[-1].is_short and self.data.RSI[-1]<=10:\n",
    "                self.trades[-1].close()\n",
    "        \n",
    "        if self.signal1==2 and len(self.trades)==0:\n",
    "            sl1 = self.data.Close[-1] - slatr\n",
    "            tp1 = self.data.Close[-1] + slatr*TPSLRatio\n",
    "            self.buy(sl=sl1, tp=tp1, size=self.mysize)\n",
    "        \n",
    "        elif self.signal1==1 and len(self.trades)==0:         \n",
    "            sl1 = self.data.Close[-1] + slatr\n",
    "            tp1 = self.data.Close[-1] - slatr*TPSLRatio\n",
    "            self.sell(sl=sl1, tp=tp1, size=self.mysize)\n",
    "\n",
    "bt = Backtest(dfpl, MyStrat, cash=100, margin=1/10, commission=0.00)\n",
    "stat = bt.run()\n",
    "stat"
   ]
  },
  {
   "cell_type": "code",
   "execution_count": 28,
   "id": "16396f6c",
   "metadata": {
    "scrolled": true
   },
   "outputs": [
    {
     "data": {
      "text/html": [
       "<div style=\"display: table;\"><div style=\"display: table-row;\"><div style=\"display: table-cell;\"><b title=\"bokeh.models.plots.GridPlot\">GridPlot</b>(</div><div style=\"display: table-cell;\">id&nbsp;=&nbsp;'p3793', <span id=\"p4341\" style=\"cursor: pointer;\">&hellip;)</span></div></div><div class=\"p4340\" style=\"display: none;\"><div style=\"display: table-cell;\"></div><div style=\"display: table-cell;\">align&nbsp;=&nbsp;'auto',</div></div><div class=\"p4340\" style=\"display: none;\"><div style=\"display: table-cell;\"></div><div style=\"display: table-cell;\">aspect_ratio&nbsp;=&nbsp;None,</div></div><div class=\"p4340\" style=\"display: none;\"><div style=\"display: table-cell;\"></div><div style=\"display: table-cell;\">children&nbsp;=&nbsp;[(figure(id='p3289', ...), 0, 0), (figure(id='p3402', ...), 1, 0), (figure(id='p3230', ...), 2, 0), (figure(id='p3474', ...), 3, 0), (figure(id='p3586', ...), 4, 0)],</div></div><div class=\"p4340\" style=\"display: none;\"><div style=\"display: table-cell;\"></div><div style=\"display: table-cell;\">cols&nbsp;=&nbsp;None,</div></div><div class=\"p4340\" style=\"display: none;\"><div style=\"display: table-cell;\"></div><div style=\"display: table-cell;\">context_menu&nbsp;=&nbsp;None,</div></div><div class=\"p4340\" style=\"display: none;\"><div style=\"display: table-cell;\"></div><div style=\"display: table-cell;\">css_classes&nbsp;=&nbsp;[],</div></div><div class=\"p4340\" style=\"display: none;\"><div style=\"display: table-cell;\"></div><div style=\"display: table-cell;\">disabled&nbsp;=&nbsp;False,</div></div><div class=\"p4340\" style=\"display: none;\"><div style=\"display: table-cell;\"></div><div style=\"display: table-cell;\">flow_mode&nbsp;=&nbsp;'block',</div></div><div class=\"p4340\" style=\"display: none;\"><div style=\"display: table-cell;\"></div><div style=\"display: table-cell;\">height&nbsp;=&nbsp;None,</div></div><div class=\"p4340\" style=\"display: none;\"><div style=\"display: table-cell;\"></div><div style=\"display: table-cell;\">height_policy&nbsp;=&nbsp;'auto',</div></div><div class=\"p4340\" style=\"display: none;\"><div style=\"display: table-cell;\"></div><div style=\"display: table-cell;\">js_event_callbacks&nbsp;=&nbsp;{},</div></div><div class=\"p4340\" style=\"display: none;\"><div style=\"display: table-cell;\"></div><div style=\"display: table-cell;\">js_property_callbacks&nbsp;=&nbsp;{},</div></div><div class=\"p4340\" style=\"display: none;\"><div style=\"display: table-cell;\"></div><div style=\"display: table-cell;\">margin&nbsp;=&nbsp;None,</div></div><div class=\"p4340\" style=\"display: none;\"><div style=\"display: table-cell;\"></div><div style=\"display: table-cell;\">max_height&nbsp;=&nbsp;None,</div></div><div class=\"p4340\" style=\"display: none;\"><div style=\"display: table-cell;\"></div><div style=\"display: table-cell;\">max_width&nbsp;=&nbsp;None,</div></div><div class=\"p4340\" style=\"display: none;\"><div style=\"display: table-cell;\"></div><div style=\"display: table-cell;\">min_height&nbsp;=&nbsp;None,</div></div><div class=\"p4340\" style=\"display: none;\"><div style=\"display: table-cell;\"></div><div style=\"display: table-cell;\">min_width&nbsp;=&nbsp;None,</div></div><div class=\"p4340\" style=\"display: none;\"><div style=\"display: table-cell;\"></div><div style=\"display: table-cell;\">name&nbsp;=&nbsp;None,</div></div><div class=\"p4340\" style=\"display: none;\"><div style=\"display: table-cell;\"></div><div style=\"display: table-cell;\">resizable&nbsp;=&nbsp;False,</div></div><div class=\"p4340\" style=\"display: none;\"><div style=\"display: table-cell;\"></div><div style=\"display: table-cell;\">rows&nbsp;=&nbsp;None,</div></div><div class=\"p4340\" style=\"display: none;\"><div style=\"display: table-cell;\"></div><div style=\"display: table-cell;\">sizing_mode&nbsp;=&nbsp;'stretch_width',</div></div><div class=\"p4340\" style=\"display: none;\"><div style=\"display: table-cell;\"></div><div style=\"display: table-cell;\">spacing&nbsp;=&nbsp;0,</div></div><div class=\"p4340\" style=\"display: none;\"><div style=\"display: table-cell;\"></div><div style=\"display: table-cell;\">styles&nbsp;=&nbsp;{},</div></div><div class=\"p4340\" style=\"display: none;\"><div style=\"display: table-cell;\"></div><div style=\"display: table-cell;\">stylesheets&nbsp;=&nbsp;[],</div></div><div class=\"p4340\" style=\"display: none;\"><div style=\"display: table-cell;\"></div><div style=\"display: table-cell;\">subscribed_events&nbsp;=&nbsp;PropertyValueSet(),</div></div><div class=\"p4340\" style=\"display: none;\"><div style=\"display: table-cell;\"></div><div style=\"display: table-cell;\">syncable&nbsp;=&nbsp;True,</div></div><div class=\"p4340\" style=\"display: none;\"><div style=\"display: table-cell;\"></div><div style=\"display: table-cell;\">tags&nbsp;=&nbsp;[],</div></div><div class=\"p4340\" style=\"display: none;\"><div style=\"display: table-cell;\"></div><div style=\"display: table-cell;\">toolbar&nbsp;=&nbsp;Toolbar(id='p3792', ...),</div></div><div class=\"p4340\" style=\"display: none;\"><div style=\"display: table-cell;\"></div><div style=\"display: table-cell;\">toolbar_location&nbsp;=&nbsp;'right',</div></div><div class=\"p4340\" style=\"display: none;\"><div style=\"display: table-cell;\"></div><div style=\"display: table-cell;\">visible&nbsp;=&nbsp;True,</div></div><div class=\"p4340\" style=\"display: none;\"><div style=\"display: table-cell;\"></div><div style=\"display: table-cell;\">width&nbsp;=&nbsp;None,</div></div><div class=\"p4340\" style=\"display: none;\"><div style=\"display: table-cell;\"></div><div style=\"display: table-cell;\">width_policy&nbsp;=&nbsp;'auto')</div></div></div>\n",
       "<script>\n",
       "(function() {\n",
       "  let expanded = false;\n",
       "  const ellipsis = document.getElementById(\"p4341\");\n",
       "  ellipsis.addEventListener(\"click\", function() {\n",
       "    const rows = document.getElementsByClassName(\"p4340\");\n",
       "    for (let i = 0; i < rows.length; i++) {\n",
       "      const el = rows[i];\n",
       "      el.style.display = expanded ? \"none\" : \"table-row\";\n",
       "    }\n",
       "    ellipsis.innerHTML = expanded ? \"&hellip;)\" : \"&lsaquo;&lsaquo;&lsaquo;\";\n",
       "    expanded = !expanded;\n",
       "  });\n",
       "})();\n",
       "</script>\n"
      ],
      "text/plain": [
       "GridPlot(id='p3793', ...)"
      ]
     },
     "execution_count": 28,
     "metadata": {},
     "output_type": "execute_result"
    }
   ],
   "source": [
    "bt.plot(resample=False)"
   ]
  }
 ],
 "metadata": {
  "kernelspec": {
   "display_name": "algotradingapp",
   "language": "python",
   "name": "python3"
  },
  "language_info": {
   "codemirror_mode": {
    "name": "ipython",
    "version": 3
   },
   "file_extension": ".py",
   "mimetype": "text/x-python",
   "name": "python",
   "nbconvert_exporter": "python",
   "pygments_lexer": "ipython3",
   "version": "3.8.20"
  }
 },
 "nbformat": 4,
 "nbformat_minor": 5
}
